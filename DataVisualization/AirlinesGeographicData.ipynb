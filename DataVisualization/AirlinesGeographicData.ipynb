{
 "cells": [
  {
   "cell_type": "code",
   "execution_count": null,
   "metadata": {},
   "outputs": [],
   "source": [
    "import pandas as pd\n",
    "airlines = pd.read_csv('airlines.csv')\n",
    "airports = pd.read_csv('airports.csv')\n",
    "routes  = pd.read_csv('routes.csv')\n",
    "\n",
    "print(airports.iloc[0])\n",
    "print(airlines.iloc[0])\n",
    "print(routes.iloc[0])"
   ]
  },
  {
   "cell_type": "markdown",
   "metadata": {},
   "source": [
    "Basemap documentation: http://matplotlib.org/basemap/users/intro.html\n"
   ]
  },
  {
   "cell_type": "code",
   "execution_count": null,
   "metadata": {},
   "outputs": [],
   "source": [
    "import matplotlib.pyplot as plt\n",
    "from mpl_toolkits.basemap import Basemap\n",
    "m = Basemap(projection='merc',llcrnrlat=-80,urcrnrlat=80,llcrnrlon=-180,urcrnrlon=180)"
   ]
  },
  {
   "cell_type": "code",
   "execution_count": null,
   "metadata": {},
   "outputs": [],
   "source": [
    "m = Basemap(projection='merc', llcrnrlat=-80, urcrnrlat=80, llcrnrlon=-180, urcrnrlon=180)\n",
    "m = Basemap(projection='merc', llcrnrlat=-80, urcrnrlat=80, llcrnrlon=-180, urcrnrlon=180)\n",
    "longitudes = airports[\"longitude\"].tolist()\n",
    "latitudes = airports[\"latitude\"].tolist()\n",
    "x, y = m(longitudes, latitudes)"
   ]
  },
  {
   "cell_type": "code",
   "execution_count": null,
   "metadata": {},
   "outputs": [],
   "source": [
    "m = Basemap(projection='merc', llcrnrlat=-80, urcrnrlat=80, llcrnrlon=-180, urcrnrlon=180)\n",
    "x, y = m(longitudes, latitudes)\n",
    "m = Basemap(projection='merc', llcrnrlat=-80, urcrnrlat=80, llcrnrlon=-180, urcrnrlon=180)\n",
    "x, y = m(longitudes, latitudes)\n",
    "m.scatter(x, y, s=1)\n",
    "plt.show()"
   ]
  },
  {
   "cell_type": "code",
   "execution_count": null,
   "metadata": {},
   "outputs": [],
   "source": [
    "m = Basemap(projection='merc', llcrnrlat=-80, urcrnrlat=80, llcrnrlon=-180, urcrnrlon=180)\n",
    "longitudes = airports[\"longitude\"].tolist()\n",
    "latitudes = airports[\"latitude\"].tolist()\n",
    "x, y = m(longitudes, latitudes)\n",
    "m.scatter(x, y, s=1)\n",
    "m = Basemap(projection='merc', llcrnrlat=-80, urcrnrlat=80, llcrnrlon=-180, urcrnrlon=180)\n",
    "longitudes = airports[\"longitude\"].tolist()\n",
    "latitudes = airports[\"latitude\"].tolist()\n",
    "x, y = m(longitudes, latitudes)\n",
    "m.scatter(x, y, s=1)\n",
    "m.drawcoastlines()\n",
    "plt.show()"
   ]
  },
  {
   "cell_type": "code",
   "execution_count": null,
   "metadata": {},
   "outputs": [],
   "source": [
    "# Add code here, before creating the Basemap instance.\n",
    "m = Basemap(projection='merc', llcrnrlat=-80, urcrnrlat=80, llcrnrlon=-180, urcrnrlon=180)\n",
    "longitudes = airports[\"longitude\"].tolist()\n",
    "latitudes = airports[\"latitude\"].tolist()\n",
    "x, y = m(longitudes, latitudes)\n",
    "m.scatter(x, y, s=1)\n",
    "m.drawcoastlines()\n",
    "plt.show()\n",
    "fig, ax = plt.subplots(figsize=(15,20))\n",
    "plt.title(\"Scaled Up Earth With Coastlines\")\n",
    "m = Basemap(projection='merc', llcrnrlat=-80, urcrnrlat=80, llcrnrlon=-180, urcrnrlon=180)\n",
    "longitudes = airports[\"longitude\"].tolist()\n",
    "latitudes = airports[\"latitude\"].tolist()\n",
    "x, y = m(longitudes, latitudes)\n",
    "m.scatter(x, y, s=1)\n",
    "m.drawcoastlines()\n",
    "plt.show()"
   ]
  },
  {
   "cell_type": "code",
   "execution_count": null,
   "metadata": {},
   "outputs": [],
   "source": [
    "geo_routes = pd.read_csv(\"geo_routes.csv\")\n",
    "print(geo_routes.info())\n",
    "print(geo_routes.head(5))"
   ]
  },
  {
   "cell_type": "code",
   "execution_count": null,
   "metadata": {},
   "outputs": [],
   "source": [
    "fig, ax = plt.subplots(figsize=(15,20))\n",
    "m = Basemap(projection='merc', llcrnrlat=-80, urcrnrlat=80, llcrnrlon=-180, urcrnrlon=180)\n",
    "m.drawcoastlines()\n",
    "fig, ax = plt.subplots(figsize=(15,20))\n",
    "m = Basemap(projection='merc', llcrnrlat=-80, urcrnrlat=80, llcrnrlon=-180, urcrnrlon=180)\n",
    "m.drawcoastlines()\n",
    "\n",
    "def create_great_circles(df):\n",
    "    for index, row in df.iterrows():\n",
    "        end_lat, start_lat = row['end_lat'], row['start_lat']\n",
    "        end_lon, start_lon = row['end_lon'], row['start_lon']\n",
    "        \n",
    "        if abs(end_lat - start_lat) < 180:\n",
    "            if abs(end_lon - start_lon) < 180:\n",
    "                m.drawgreatcircle(start_lon, start_lat, end_lon, end_lat)\n",
    "\n",
    "dfw = geo_routes[geo_routes['source'] == \"DFW\"]\n",
    "create_great_circles(dfw)\n",
    "plt.show()"
   ]
  },
  {
   "cell_type": "markdown",
   "metadata": {},
   "source": [
    "We encourage you to keep exploring data visualization on your own. Here are some suggestions for what to do next:\n",
    "\n",
    "Plotting tools:\n",
    "*Creating 3D plots using Plotly https://plot.ly/python/3d-scatter-plots/\n",
    "Creating interactive visualizations using bokeh http://bokeh.pydata.org/en/latest/\n",
    "Creating interactive map visualizations using folium https://folium.readthedocs.io/en/latest/\n",
    "\n",
    "The art and science of data visualization:\n",
    "Visual Display of Quantitative Information https://www.amazon.com/Visual-Display-Quantitative-Information/dp/0961392142\n",
    "Visual Explanations: Images and Quantities, Evidence and Narrative https://www.amazon.com/Visual-Explanations-Quantities-Evidence-Narrative/dp/0961392126\n"
   ]
  },
  {
   "cell_type": "code",
   "execution_count": null,
   "metadata": {},
   "outputs": [],
   "source": []
  }
 ],
 "metadata": {
  "kernelspec": {
   "display_name": "Python 3",
   "language": "python",
   "name": "python3"
  },
  "language_info": {
   "codemirror_mode": {
    "name": "ipython",
    "version": 3
   },
   "file_extension": ".py",
   "mimetype": "text/x-python",
   "name": "python",
   "nbconvert_exporter": "python",
   "pygments_lexer": "ipython3",
   "version": "3.6.3"
  }
 },
 "nbformat": 4,
 "nbformat_minor": 2
}
